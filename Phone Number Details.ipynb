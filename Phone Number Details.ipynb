{
 "cells": [
  {
   "cell_type": "markdown",
   "id": "bc9d465d-cf4c-45e2-befd-d87a8c07f497",
   "metadata": {},
   "source": [
    "## Phone Number Details Program"
   ]
  },
  {
   "cell_type": "code",
   "execution_count": null,
   "id": "c664188a-5f07-49ea-8497-f475a09af209",
   "metadata": {},
   "outputs": [],
   "source": [
    "# install phonenumbers library\n",
    "pip install phonenumbers"
   ]
  },
  {
   "cell_type": "code",
   "execution_count": 1,
   "id": "da8b5255-cb0c-4fbd-87dc-5ebf5d96506a",
   "metadata": {},
   "outputs": [],
   "source": [
    "# import phonenumbers & it's some basic componenets\n",
    "import phonenumbers as pns\n",
    "from phonenumbers import carrier    # service provider\n",
    "from phonenumbers import geocoder   # country \n",
    "from phonenumbers import timezone   # region"
   ]
  },
  {
   "cell_type": "code",
   "execution_count": 2,
   "id": "73755202-13a7-4697-82e4-5fff857f5aaa",
   "metadata": {},
   "outputs": [
    {
     "name": "stdin",
     "output_type": "stream",
     "text": [
      "Enter mobile no. with country dialing code (like +910000000000 for india):  +919999999900\n"
     ]
    }
   ],
   "source": [
    "# Type mobile number\n",
    "mob=input('Enter mobile no. with country dialing code (like +910000000000 for india): ')"
   ]
  },
  {
   "cell_type": "code",
   "execution_count": 3,
   "id": "5fe0eda3-ac62-4919-98ba-89386838a54e",
   "metadata": {},
   "outputs": [],
   "source": [
    "# parse the details of mobile no.\n",
    "mob= pns.parse(mob)"
   ]
  },
  {
   "cell_type": "code",
   "execution_count": 4,
   "id": "19a4832f-902b-4e40-8a04-c2014b5b380c",
   "metadata": {},
   "outputs": [
    {
     "name": "stdout",
     "output_type": "stream",
     "text": [
      "Vodafone\n",
      "('Asia/Calcutta',)\n",
      "India\n"
     ]
    }
   ],
   "source": [
    "# print the basic details of given mobile no.\n",
    "print(carrier.name_for_number(mob, 'en'))  # service provider of no.\n",
    "print(timezone.time_zones_for_number(mob)) # region of no.\n",
    "print(geocoder.description_for_number(mob, 'en'))  # country of no."
   ]
  },
  {
   "cell_type": "code",
   "execution_count": null,
   "id": "4e35309f-3122-4a7c-bf07-8aa4cf828fc5",
   "metadata": {},
   "outputs": [],
   "source": []
  }
 ],
 "metadata": {
  "kernelspec": {
   "display_name": "Python 3 (ipykernel)",
   "language": "python",
   "name": "python3"
  },
  "language_info": {
   "codemirror_mode": {
    "name": "ipython",
    "version": 3
   },
   "file_extension": ".py",
   "mimetype": "text/x-python",
   "name": "python",
   "nbconvert_exporter": "python",
   "pygments_lexer": "ipython3",
   "version": "3.11.1"
  }
 },
 "nbformat": 4,
 "nbformat_minor": 5
}
