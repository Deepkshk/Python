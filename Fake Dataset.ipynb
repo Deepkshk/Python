{
 "cells": [
  {
   "cell_type": "markdown",
   "id": "d774963d-53a2-43e3-b829-4d5891e6f163",
   "metadata": {},
   "source": [
    "## Fake Dummy Dataset Program"
   ]
  },
  {
   "cell_type": "code",
   "execution_count": null,
   "id": "9843b9f0-b8c7-43bc-bda2-3e1cb4882224",
   "metadata": {},
   "outputs": [],
   "source": [
    "# install faker library\n",
    "pip install Faker"
   ]
  },
  {
   "cell_type": "code",
   "execution_count": 1,
   "id": "17812814-ede2-4b72-8f32-8324aed83b2b",
   "metadata": {},
   "outputs": [],
   "source": [
    "# import Faker module\n",
    "from faker import Faker"
   ]
  },
  {
   "cell_type": "code",
   "execution_count": 2,
   "id": "d1cff9cb-ab4f-47bb-a755-4b4f6b2cec11",
   "metadata": {},
   "outputs": [],
   "source": [
    "# create var for fake data\n",
    "dummy = Faker()"
   ]
  },
  {
   "cell_type": "code",
   "execution_count": 3,
   "id": "9bcfe4a4-21fb-4806-9579-f2da0d25a5b8",
   "metadata": {},
   "outputs": [
    {
     "name": "stdout",
     "output_type": "stream",
     "text": [
      "Tom Adams\n",
      "132 Perry Gateway Suite 470\n",
      "Cannontown, TN 57235\n",
      "Class without shake speak determine. Personal school news whole sort too structure. Get option back industry sense nor expert.\n",
      "Run easy feel old lot worker. Indeed staff must.\n"
     ]
    }
   ],
   "source": [
    "# print Fake data\n",
    "print(dummy.name())     # print fake name\n",
    "print(dummy.address())  # print fake address\n",
    "print(dummy.text())     # print fake text"
   ]
  },
  {
   "cell_type": "markdown",
   "id": "43f5dd23-9fa8-498f-84f2-e880e4cb642b",
   "metadata": {},
   "source": [
    "#### create Dataframe with fake details"
   ]
  },
  {
   "cell_type": "code",
   "execution_count": 4,
   "id": "bd4dc234-e201-4bb9-bd21-3c19f47109e7",
   "metadata": {},
   "outputs": [],
   "source": [
    "# import pandas for dataframe\n",
    "import pandas as pd"
   ]
  },
  {
   "cell_type": "code",
   "execution_count": 5,
   "id": "da4bab2d-422d-433f-bc30-3904ca331419",
   "metadata": {},
   "outputs": [],
   "source": [
    "# create fake Dataframe\n",
    "dataframe = [dummy.profile() for i in range(500)]\n",
    "dataframe = pd.DataFrame(dataframe)"
   ]
  },
  {
   "cell_type": "code",
   "execution_count": 6,
   "id": "7a6dd2f7-b653-4571-bc00-8f169cd814af",
   "metadata": {},
   "outputs": [
    {
     "name": "stdout",
     "output_type": "stream",
     "text": [
      "                           job                   company          ssn  \\\n",
      "0     Journalist, broadcasting          Cunningham-Brown  706-01-6535   \n",
      "1  Civil engineer, contracting          Roberts and Sons  386-33-3103   \n",
      "2     Technical sales engineer                 Garza Ltd  704-96-2475   \n",
      "3      Diagnostic radiographer  Daniel, Brown and Keller  564-47-4506   \n",
      "4    Medical technical officer              Anderson LLC  717-71-0858   \n",
      "\n",
      "                                           residence  \\\n",
      "0  40015 Lewis Branch Apt. 834\\nWest Williamshire...   \n",
      "1  410 Scott Well Suite 223\\nSouth Alexanderchest...   \n",
      "2  182 Joshua Springs Suite 515\\nNorth Richard, M...   \n",
      "3  894 Taylor Turnpike Suite 924\\nAndrewsshire, M...   \n",
      "4              357 Andres Vista\\nSarahport, FL 78459   \n",
      "\n",
      "             current_location blood_group  \\\n",
      "0    (27.2917205, 163.281891)          B+   \n",
      "1    (-51.8476005, 90.581851)          O+   \n",
      "2  (-54.1688685, -138.268912)         AB-   \n",
      "3     (6.6043615, 104.113106)          O+   \n",
      "4     (-5.133057, 178.266104)          A-   \n",
      "\n",
      "                                             website       username  \\\n",
      "0  [https://wong-lewis.org/, https://lewis.com/, ...         aparks   \n",
      "1  [http://tucker-smith.com/, https://www.reese.n...   sherylwilson   \n",
      "2  [https://flynn.com/, https://hughes-wade.info/...       kelsey79   \n",
      "3  [https://scott-jenkins.com/, https://www.conne...      dyerdaryl   \n",
      "4  [http://www.summers.biz/, https://www.watson.n...  elliottleslie   \n",
      "\n",
      "               name sex                                            address  \\\n",
      "0      Lauren Smith   F                1401 Joseph Run\\nToddport, WA 84216   \n",
      "1  Patrick Williams   M  324 Adriana Lodge Suite 613\\nEast James, FM 46199   \n",
      "2      Jennifer Fox   F         77616 Johnson Islands\\nBakerstad, DC 04235   \n",
      "3   Michael Clayton   M           6283 Hansen Square\\nMathewbury, OR 27624   \n",
      "4     Zachary Yates   M  43061 Cook Junction Apt. 997\\nBrownchester, WV...   \n",
      "\n",
      "                     mail   birthdate  \n",
      "0      monica18@yahoo.com  1907-11-27  \n",
      "1    bensonlori@yahoo.com  1985-07-26  \n",
      "2   hunteramber@yahoo.com  1995-04-04  \n",
      "3   andrewdavis@gmail.com  1923-12-01  \n",
      "4  kylecastro@hotmail.com  1930-11-03  \n"
     ]
    }
   ],
   "source": [
    "# print fake dataframe\n",
    "print(dataframe.head())"
   ]
  },
  {
   "cell_type": "code",
   "execution_count": 7,
   "id": "083118cb-c51c-4a4a-afb7-b99571b118f7",
   "metadata": {},
   "outputs": [],
   "source": [
    "# write dataframe in Excel file\n",
    "dataframe.to_excel('fakedataset.xlsx')"
   ]
  },
  {
   "cell_type": "code",
   "execution_count": null,
   "id": "cde8a225-e5c8-412c-9168-d289e1c63f85",
   "metadata": {},
   "outputs": [],
   "source": []
  }
 ],
 "metadata": {
  "kernelspec": {
   "display_name": "Python 3 (ipykernel)",
   "language": "python",
   "name": "python3"
  },
  "language_info": {
   "codemirror_mode": {
    "name": "ipython",
    "version": 3
   },
   "file_extension": ".py",
   "mimetype": "text/x-python",
   "name": "python",
   "nbconvert_exporter": "python",
   "pygments_lexer": "ipython3",
   "version": "3.11.1"
  }
 },
 "nbformat": 4,
 "nbformat_minor": 5
}
