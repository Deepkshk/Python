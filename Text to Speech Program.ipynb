{
 "cells": [
  {
   "cell_type": "markdown",
   "id": "feb46d21-fa9b-4a75-a604-f3b854350114",
   "metadata": {},
   "source": [
    "## Text to Speech Program"
   ]
  },
  {
   "cell_type": "code",
   "execution_count": null,
   "id": "be922194-12c8-44dd-8222-2aa8bbf451d9",
   "metadata": {},
   "outputs": [],
   "source": [
    "# First install pyttsx3 module\n",
    "pip install pyttsx3"
   ]
  },
  {
   "cell_type": "code",
   "execution_count": 1,
   "id": "29eb3f21-5f84-4ebe-97e0-8cfeb95f60b8",
   "metadata": {},
   "outputs": [],
   "source": [
    "# import pyttsx3 Module\n",
    "import pyttsx3"
   ]
  },
  {
   "cell_type": "code",
   "execution_count": 2,
   "id": "be3a88f5-a6b1-45ab-960b-0d0739d5c948",
   "metadata": {},
   "outputs": [],
   "source": [
    "# create speech constructor or starter\n",
    "assistant=pyttsx3.init()"
   ]
  },
  {
   "cell_type": "code",
   "execution_count": 3,
   "id": "4049f6de-318f-4d2e-8dcd-274064a642a9",
   "metadata": {},
   "outputs": [],
   "source": [
    "# set speech speed\n",
    "rate=assistant.getProperty('rate') # check current speed\n",
    "#print(rate)   # print current speed\n",
    "assistant.setProperty('rate', 130)"
   ]
  },
  {
   "cell_type": "code",
   "execution_count": 4,
   "id": "1a7e2b0c-d1c9-450c-ade2-0ae4999bce83",
   "metadata": {},
   "outputs": [],
   "source": [
    "# set speech Volume\n",
    "volume=assistant.getProperty('volume') # check current volume\n",
    "#print(volume)  # print current volume\n",
    "assistant.setProperty('volume', 0.8)"
   ]
  },
  {
   "cell_type": "code",
   "execution_count": 5,
   "id": "e5a6c6fb-c7a3-4136-9796-290d4e7c6428",
   "metadata": {},
   "outputs": [],
   "source": [
    "# set speech voice\n",
    "voices=assistant.getProperty('voices') # check current voice type\n",
    "#print(voices)  # print current voice\n",
    "assistant.setProperty('voice', voices[1].id) # 1 for female\n",
    "#assistant.setProperty('voice', voices[0].id) # 0 for male"
   ]
  },
  {
   "cell_type": "code",
   "execution_count": 6,
   "id": "a60ea8d5-caaf-4e36-a944-6875eea2a8d4",
   "metadata": {},
   "outputs": [],
   "source": [
    "# type text for speech\n",
    "assistant.say(\"New Zealand is an island country in the southwestern Pacific Ocean. It consists of two main landmasses—the North Island and the South Island- and over 700 smaller islands. It is the sixth-largest island country by area, covering 268,021 square kilometres (103,500 sq mi). New Zealand's capital city is Wellington, and its most populous city is Auckland.\")"
   ]
  },
  {
   "cell_type": "code",
   "execution_count": 7,
   "id": "60722ba0-8b77-4b6a-beda-a2c9ab04aad2",
   "metadata": {},
   "outputs": [],
   "source": [
    "# and Finally run it\n",
    "assistant.runAndWait()"
   ]
  },
  {
   "cell_type": "code",
   "execution_count": null,
   "id": "e233a98c-3988-437d-89cb-f8efcad81b92",
   "metadata": {},
   "outputs": [],
   "source": []
  }
 ],
 "metadata": {
  "kernelspec": {
   "display_name": "Python 3 (ipykernel)",
   "language": "python",
   "name": "python3"
  },
  "language_info": {
   "codemirror_mode": {
    "name": "ipython",
    "version": 3
   },
   "file_extension": ".py",
   "mimetype": "text/x-python",
   "name": "python",
   "nbconvert_exporter": "python",
   "pygments_lexer": "ipython3",
   "version": "3.11.1"
  }
 },
 "nbformat": 4,
 "nbformat_minor": 5
}
