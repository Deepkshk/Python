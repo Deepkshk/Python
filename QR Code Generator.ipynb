{
 "cells": [
  {
   "cell_type": "markdown",
   "id": "e1e01734-9bf1-4a5a-a2cd-d17438c06af6",
   "metadata": {},
   "source": [
    "## QR Code Generator Program"
   ]
  },
  {
   "cell_type": "code",
   "execution_count": null,
   "id": "79e7bce9-e934-44b0-bdeb-b6a05d52b22f",
   "metadata": {},
   "outputs": [],
   "source": [
    "# First install pyqrcode module\n",
    "pip install pyqrcode"
   ]
  },
  {
   "cell_type": "code",
   "execution_count": 1,
   "id": "f0b5f3c3-b2ae-417c-abed-31e2044a5d2b",
   "metadata": {},
   "outputs": [],
   "source": [
    "# import pyqrcode module\n",
    "import pyqrcode"
   ]
  },
  {
   "cell_type": "code",
   "execution_count": 2,
   "id": "88e1e4cc-00dc-4fd7-9264-1719e673ac07",
   "metadata": {},
   "outputs": [],
   "source": [
    "# type data which represent the QR Code\n",
    "text='''Jake Sully\n",
    "AI Engineer\n",
    "Python,C++,Javascript,C#'''"
   ]
  },
  {
   "cell_type": "code",
   "execution_count": 3,
   "id": "5cbb97ab-1699-4426-a04c-8eb6a39a223f",
   "metadata": {},
   "outputs": [],
   "source": [
    "# Generate QR Code\n",
    "mycode=pyqrcode.create(text)"
   ]
  },
  {
   "cell_type": "code",
   "execution_count": 4,
   "id": "85a37bcc-6164-4161-aa03-148137017c52",
   "metadata": {},
   "outputs": [],
   "source": [
    "#Save the genereated QR code in png file named 'myqr.svg'\n",
    "mycode.svg('myqr.svg',scale=8)"
   ]
  },
  {
   "cell_type": "code",
   "execution_count": null,
   "id": "ca87648e-0a4a-4f2c-a879-de096910df43",
   "metadata": {},
   "outputs": [],
   "source": []
  }
 ],
 "metadata": {
  "kernelspec": {
   "display_name": "Python 3 (ipykernel)",
   "language": "python",
   "name": "python3"
  },
  "language_info": {
   "codemirror_mode": {
    "name": "ipython",
    "version": 3
   },
   "file_extension": ".py",
   "mimetype": "text/x-python",
   "name": "python",
   "nbconvert_exporter": "python",
   "pygments_lexer": "ipython3",
   "version": "3.11.1"
  }
 },
 "nbformat": 4,
 "nbformat_minor": 5
}
