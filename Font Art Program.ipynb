{
 "cells": [
  {
   "cell_type": "markdown",
   "id": "54b1807b-628d-4953-a9b0-a2ee98c0692a",
   "metadata": {},
   "source": [
    "## Font Art Program"
   ]
  },
  {
   "cell_type": "code",
   "execution_count": null,
   "id": "6d499705-8104-4383-ad52-12f1fab28f93",
   "metadata": {},
   "outputs": [],
   "source": [
    "# First install pyfiglet module\n",
    "#pip install pyfiglet"
   ]
  },
  {
   "cell_type": "code",
   "execution_count": 1,
   "id": "e64ef1db-c409-47b6-8f8c-05446d9c46d1",
   "metadata": {},
   "outputs": [],
   "source": [
    "# import pyfiglet module \n",
    "import pyfiglet"
   ]
  },
  {
   "cell_type": "code",
   "execution_count": 2,
   "id": "7471b0b9-e9d8-4689-a17a-0855f68ff2b2",
   "metadata": {},
   "outputs": [
    {
     "name": "stdout",
     "output_type": "stream",
     "text": [
      " ____        _   _                 \n",
      "|  _ \\ _   _| |_| |__   ___  _ __  \n",
      "| |_) | | | | __| '_ \\ / _ \\| '_ \\ \n",
      "|  __/| |_| | |_| | | | (_) | | | |\n",
      "|_|    \\__, |\\__|_| |_|\\___/|_| |_|\n",
      "       |___/                       \n",
      "\n"
     ]
    }
   ],
   "source": [
    "# draw pre defined font figure\n",
    "text1=pyfiglet.figlet_format('Python')                          #1\n",
    "print(text1)"
   ]
  },
  {
   "cell_type": "code",
   "execution_count": 3,
   "id": "f10e0f85-6eeb-418b-88c5-3b54043a89c3",
   "metadata": {},
   "outputs": [
    {
     "name": "stdout",
     "output_type": "stream",
     "text": [
      "       __                                 _       __ \n",
      "      / /___ __   ______ ________________(_)___  / /_\n",
      " __  / / __ `/ | / / __ `/ ___/ ___/ ___/ / __ \\/ __/\n",
      "/ /_/ / /_/ /| |/ / /_/ (__  ) /__/ /  / / /_/ / /_  \n",
      "\\____/\\__,_/ |___/\\__,_/____/\\___/_/  /_/ .___/\\__/  \n",
      "                                       /_/           \n",
      "\n"
     ]
    }
   ],
   "source": [
    "# Draw font figure with different figure or font style\n",
    "text2=pyfiglet.figlet_format('Javascript',font='slant')                  #2\n",
    "print(text2)"
   ]
  },
  {
   "cell_type": "code",
   "execution_count": 4,
   "id": "f2d22b26-4510-45d8-a6be-d85979a61dc6",
   "metadata": {},
   "outputs": [
    {
     "name": "stdout",
     "output_type": "stream",
     "text": [
      "  ********   *******    **      \n",
      " **//////   **/////**  /**      \n",
      "/**        **     //** /**      \n",
      "/*********/**      /** /**      \n",
      "////////**/**    **/** /**      \n",
      "       /**//**  // **  /**      \n",
      " ********  //******* **/********\n",
      "////////    /////// // //////// \n",
      "\n"
     ]
    }
   ],
   "source": [
    "# Draw font figure with different figure or font style\n",
    "text3=pyfiglet.figlet_format('SQL',font='3-d')                    #3\n",
    "print(text3)"
   ]
  },
  {
   "cell_type": "code",
   "execution_count": 5,
   "id": "7929584b-7c81-4f04-b652-13f2f2ae5d54",
   "metadata": {},
   "outputs": [
    {
     "name": "stdout",
     "output_type": "stream",
     "text": [
      "                       \n",
      "                       \n",
      "    //   ) )   __/__/_ \n",
      "   //         __/__/_  \n",
      "  //           /  /    \n",
      " //                    \n",
      "((____/ /              \n",
      "\n"
     ]
    }
   ],
   "source": [
    "# Draw font figure with different figure or font style\n",
    "text4=pyfiglet.figlet_format('C#',font='5lineoblique')       #4\n",
    "print(text4)"
   ]
  },
  {
   "cell_type": "code",
   "execution_count": 6,
   "id": "f18096ba-8a8d-4b97-aa52-3e9990f3487d",
   "metadata": {},
   "outputs": [
    {
     "name": "stdout",
     "output_type": "stream",
     "text": [
      "H  H PPPP  \n",
      "H  H P   P \n",
      "HHHH PPPP  \n",
      "H  H P     \n",
      "H  H P     \n",
      "           \n",
      "           \n",
      "\n"
     ]
    }
   ],
   "source": [
    "# Draw font figure with different figure or font style\n",
    "text5=pyfiglet.figlet_format('HP',font='alphabet')              #5\n",
    "print(text5)"
   ]
  },
  {
   "cell_type": "code",
   "execution_count": 7,
   "id": "c9ddfbac-dfa5-49a3-93ba-1716380efd8a",
   "metadata": {},
   "outputs": [
    {
     "name": "stdout",
     "output_type": "stream",
     "text": [
      "                                                                        \n",
      "                                                                        \n",
      "               AAA                                                      \n",
      "              A:::A                                                     \n",
      "             A:::::A                                                    \n",
      "            A:::::::A                                                   \n",
      "           A:::::::::A          ppppp   ppppppppp   ppppp   ppppppppp   \n",
      "          A:::::A:::::A         p::::ppp:::::::::p  p::::ppp:::::::::p  \n",
      "         A:::::A A:::::A        p:::::::::::::::::p p:::::::::::::::::p \n",
      "        A:::::A   A:::::A       pp::::::ppppp::::::ppp::::::ppppp::::::p\n",
      "       A:::::A     A:::::A       p:::::p     p:::::p p:::::p     p:::::p\n",
      "      A:::::AAAAAAAAA:::::A      p:::::p     p:::::p p:::::p     p:::::p\n",
      "     A:::::::::::::::::::::A     p:::::p     p:::::p p:::::p     p:::::p\n",
      "    A:::::AAAAAAAAAAAAA:::::A    p:::::p    p::::::p p:::::p    p::::::p\n",
      "   A:::::A             A:::::A   p:::::ppppp:::::::p p:::::ppppp:::::::p\n",
      "  A:::::A               A:::::A  p::::::::::::::::p  p::::::::::::::::p \n",
      " A:::::A                 A:::::A p::::::::::::::pp   p::::::::::::::pp  \n",
      "AAAAAAA                   AAAAAAAp::::::pppppppp     p::::::pppppppp    \n",
      "                                 p:::::p             p:::::p            \n",
      "                                 p:::::p             p:::::p            \n",
      "                                p:::::::p           p:::::::p           \n",
      "                                p:::::::p           p:::::::p           \n",
      "                                p:::::::p           p:::::::p           \n",
      "                                ppppppppp           ppppppppp           \n",
      "                                                                        \n",
      "                            \n",
      "                            \n",
      "lllllll                     \n",
      "l:::::l                     \n",
      "l:::::l                     \n",
      "l:::::l                     \n",
      " l::::l     eeeeeeeeeeee    \n",
      " l::::l   ee::::::::::::ee  \n",
      " l::::l  e::::::eeeee:::::ee\n",
      " l::::l e::::::e     e:::::e\n",
      " l::::l e:::::::eeeee::::::e\n",
      " l::::l e:::::::::::::::::e \n",
      " l::::l e::::::eeeeeeeeeee  \n",
      " l::::l e:::::::e           \n",
      "l::::::le::::::::e          \n",
      "l::::::l e::::::::eeeeeeee  \n",
      "l::::::l  ee:::::::::::::e  \n",
      "llllllll    eeeeeeeeeeeeee  \n",
      "                            \n",
      "                            \n",
      "                            \n",
      "                            \n",
      "                            \n",
      "                            \n",
      "                            \n",
      "\n"
     ]
    }
   ],
   "source": [
    "# Draw font figure with different figure or font style\n",
    "text6=pyfiglet.figlet_format('Apple',font='doh')                          #6\n",
    "print(text6)"
   ]
  },
  {
   "cell_type": "code",
   "execution_count": 8,
   "id": "a38ce1bb-e90c-4eea-b592-19fed8c99268",
   "metadata": {},
   "outputs": [
    {
     "name": "stdout",
     "output_type": "stream",
     "text": [
      "      ___           ___           ___     \n",
      "     /\\__\\         /\\  \\         /\\  \\    \n",
      "    /::|  |       /::\\  \\       /::\\  \\   \n",
      "   /:|:|  |      /:/\\:\\  \\     /:/\\:\\  \\  \n",
      "  /:/|:|__|__   /::\\~\\:\\  \\   /:/  \\:\\  \\ \n",
      " /:/ |::::\\__\\ /:/\\:\\ \\:\\__\\ /:/__/ \\:\\__\\\n",
      " \\/__/~~/:/  / \\/__\\:\\/:/  / \\:\\  \\  \\/__/\n",
      "       /:/  /       \\::/  /   \\:\\  \\      \n",
      "      /:/  /        /:/  /     \\:\\  \\     \n",
      "     /:/  /        /:/  /       \\:\\__\\    \n",
      "     \\/__/         \\/__/         \\/__/    \n",
      "\n"
     ]
    }
   ],
   "source": [
    "# Draw font figure with different figure or font style\n",
    "text7=pyfiglet.figlet_format('Mac',font='isometric1')                    #7\n",
    "print(text7)"
   ]
  },
  {
   "cell_type": "code",
   "execution_count": 9,
   "id": "c8702fdc-de1b-4ff0-9d16-ceb9c7acb71c",
   "metadata": {},
   "outputs": [
    {
     "name": "stdout",
     "output_type": "stream",
     "text": [
      "      ::::::::  ::::::::   :::  \n",
      "    :+:    :+::+:    :+:  :+:   \n",
      "   +:+       +:+    +:+  +:+    \n",
      "  +#++:++#+++#+    +:+  +#+     \n",
      "        +#++#+    +#+  +#+      \n",
      "#+#    #+##+#    #+#  #+#       \n",
      "########  ##################### \n",
      "\n"
     ]
    }
   ],
   "source": [
    "# Draw font figure with different figure or font style\n",
    "text8=pyfiglet.figlet_format('SQL',font='alligator')                        #8\n",
    "print(text8)"
   ]
  },
  {
   "cell_type": "code",
   "execution_count": 10,
   "id": "ebbc0777-ab28-465d-be34-48eb096a73a6",
   "metadata": {},
   "outputs": [
    {
     "name": "stdout",
     "output_type": "stream",
     "text": [
      "  _   _   _   _   _   _  \n",
      " / \\ / \\ / \\ / \\ / \\ / \\ \n",
      "( K | o | t | l | i | n )\n",
      " \\_/ \\_/ \\_/ \\_/ \\_/ \\_/ \n",
      "\n"
     ]
    }
   ],
   "source": [
    "# Draw font figure with different figure or font style\n",
    "text9=pyfiglet.figlet_format('Kotlin',font='bubble')                         #9\n",
    "print(text9)"
   ]
  },
  {
   "cell_type": "code",
   "execution_count": 11,
   "id": "41ba2173-3ade-4ea7-995d-ba71bf490707",
   "metadata": {},
   "outputs": [
    {
     "name": "stdout",
     "output_type": "stream",
     "text": [
      "+-+-+-+-+-+-+\n",
      "|G|o|o|g|l|e|\n",
      "+-+-+-+-+-+-+\n",
      "\n"
     ]
    }
   ],
   "source": [
    "# Draw font figure with different figure or font style\n",
    "text10=pyfiglet.figlet_format('Google',font='digital')                       #10\n",
    "print(text10)"
   ]
  },
  {
   "cell_type": "code",
   "execution_count": null,
   "id": "1e0b9974-7374-4ca2-a442-76a0e9ec0b2a",
   "metadata": {},
   "outputs": [],
   "source": []
  }
 ],
 "metadata": {
  "kernelspec": {
   "display_name": "Python 3 (ipykernel)",
   "language": "python",
   "name": "python3"
  },
  "language_info": {
   "codemirror_mode": {
    "name": "ipython",
    "version": 3
   },
   "file_extension": ".py",
   "mimetype": "text/x-python",
   "name": "python",
   "nbconvert_exporter": "python",
   "pygments_lexer": "ipython3",
   "version": "3.11.1"
  }
 },
 "nbformat": 4,
 "nbformat_minor": 5
}
