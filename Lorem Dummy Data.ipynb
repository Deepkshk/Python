{
 "cells": [
  {
   "cell_type": "markdown",
   "id": "2cfe3f83-e0e1-4069-aa57-63ef37903059",
   "metadata": {},
   "source": [
    "## Lorem Dummy Data Program"
   ]
  },
  {
   "cell_type": "code",
   "execution_count": null,
   "id": "ef82b582-3dfc-4720-b16d-a69650c99ca5",
   "metadata": {},
   "outputs": [],
   "source": [
    "# install Lorem-text library\n",
    "pip install lorem-text"
   ]
  },
  {
   "cell_type": "code",
   "execution_count": 1,
   "id": "95145702-bf7a-4025-953d-0cf7556979a7",
   "metadata": {},
   "outputs": [],
   "source": [
    "# import lorem module\n",
    "from lorem_text import lorem"
   ]
  },
  {
   "cell_type": "code",
   "execution_count": 2,
   "id": "c2c35a07-1d78-431d-993e-828e961554c8",
   "metadata": {},
   "outputs": [
    {
     "name": "stdout",
     "output_type": "stream",
     "text": [
      "Laborum ipsum asperiores fugit sequi labore suscipit perferendis officiis rerum, sed sapiente non, qui nostrum minus voluptas est cumque repudiandae, sed sunt perspiciatis aspernatur cupiditate deserunt alias vitae facilis?\n"
     ]
    }
   ],
   "source": [
    "# generate random sentence\n",
    "print(lorem.sentence())"
   ]
  },
  {
   "cell_type": "code",
   "execution_count": 3,
   "id": "d9c52904-b0b5-4d5d-9655-c8de92384292",
   "metadata": {},
   "outputs": [
    {
     "name": "stdout",
     "output_type": "stream",
     "text": [
      "Ipsam sapiente debitis ducimus blanditiis, sapiente ducimus sequi? Animi totam deserunt mollitia pariatur impedit nobis recusandae, possimus distinctio magnam in quia saepe, id quo libero et eum dolorum odit similique veniam optio eligendi, itaque atque quasi odio? Laborum adipisci voluptates nobis eos aut excepturi hic voluptatibus, numquam veritatis corrupti pariatur nesciunt unde dolore consectetur laboriosam ad rerum vel. Repellendus veniam animi impedit dolorem fugiat nostrum, reiciendis nobis officia sint?\n"
     ]
    }
   ],
   "source": [
    "# generate random paragraph\n",
    "print(lorem.paragraph())"
   ]
  },
  {
   "cell_type": "code",
   "execution_count": 4,
   "id": "a75ea157-44ec-4ffb-86c3-8c53c75f9e1b",
   "metadata": {},
   "outputs": [
    {
     "name": "stdout",
     "output_type": "stream",
     "text": [
      "Lorem ipsum dolor sit amet, consectetur adipisicing elit, sed do eiusmod tempor incididunt ut labore et dolore magna aliqua. Ut enim ad minim veniam, quis nostrud exercitation ullamco laboris nisi ut aliquip ex ea commodo consequat. Duis aute irure dolor in reprehenderit in voluptate velit esse cillum dolore eu fugiat nulla pariatur. Excepteur sint occaecat cupidatat non proident, sunt in culpa qui officia deserunt mollit anim id est laborum.\n",
      "Officiis voluptatum numquam maxime corrupti beatae nostrum repellendus quod, cum totam id aliquam eveniet iure. Saepe aperiam quisquam corrupti consequatur, soluta optio suscipit est enim deleniti, corporis nobis aspernatur provident aliquid, ratione ullam facere quas esse laudantium, molestiae corrupti sequi culpa velit error excepturi accusantium ut animi amet. Assumenda ullam est fugiat sit iusto provident at pariatur quod dolores eligendi, beatae aut voluptatum similique, aliquid in facere laboriosam praesentium ut rerum veritatis sint asperiores animi unde, tempora facere pariatur officiis deserunt laudantium eaque ipsam iste a, quasi nam distinctio officiis porro maiores doloremque animi. Rem obcaecati delectus velit, doloribus ex error, ipsa totam sit error voluptas cum vero ratione odit libero deserunt, quasi quia nulla explicabo non consequatur cum molestias?\n",
      "Tempora maxime eius eveniet recusandae maiores eos ex a libero illo, perspiciatis vel itaque non molestiae veniam? Dignissimos quisquam voluptatibus itaque reprehenderit mollitia provident sed, eius ipsum non distinctio provident saepe doloremque numquam, velit pariatur sit voluptatem enim voluptatum quasi, suscipit placeat doloribus molestias numquam sint quam officia? Consequuntur quod debitis ipsum incidunt maiores doloremque, unde labore fugiat voluptatibus hic natus illum libero consectetur. Suscipit voluptatum aut sunt neque eveniet, quis in omnis sequi voluptate, sit dolorem pariatur nisi iure cupiditate dicta voluptate aspernatur earum modi.\n",
      "Minus iste consectetur eligendi eaque veniam amet, excepturi commodi est beatae tenetur consequatur ut cupiditate recusandae iste perspiciatis, tempore aliquid esse minus perferendis delectus nostrum adipisci consequuntur fugiat, similique id eos officia. Perspiciatis asperiores ab totam necessitatibus odio, possimus alias optio distinctio deleniti autem quisquam consequuntur perspiciatis pariatur illum, delectus quis mollitia optio numquam autem, enim maxime laboriosam?\n",
      "Qui architecto omnis quod veniam, minus sapiente rerum facere voluptatibus officia quos rem atque mollitia, repellat odit natus ut architecto? Amet eveniet illo dignissimos corrupti aliquid neque et optio at quis, assumenda voluptatum tempore iure incidunt nesciunt perspiciatis doloribus consequatur hic velit aliquam, consequuntur minima eos temporibus autem amet, cum ipsum obcaecati quidem rerum facere temporibus, sit ducimus sapiente pariatur nam. Vitae pariatur eligendi nulla molestias qui veritatis, iste aperiam aut, nostrum ipsa assumenda eveniet iste ratione quasi placeat sed, ab numquam maxime nostrum quasi asperiores velit natus saepe?\n",
      "Assumenda quisquam nisi cumque quasi velit similique voluptate voluptas, eos aliquam magni autem atque aliquid dicta ipsa, deleniti alias consequuntur molestias, quos a adipisci consequuntur voluptate ex, labore impedit architecto porro obcaecati cum molestiae suscipit. Provident exercitationem nobis ullam vel ea, repudiandae iure aut temporibus et? Beatae rerum porro neque accusamus ducimus molestiae deleniti, doloribus minus mollitia. Architecto earum vitae eveniet a cumque dolor laudantium iusto mollitia quis, minima sed cum ipsum expedita placeat quo distinctio minus, alias autem ea perspiciatis sunt maxime quae veritatis quidem ex deleniti, optio laboriosam cum?\n",
      "Eius esse illo atque quis natus quos obcaecati, optio praesentium placeat repellat, obcaecati exercitationem accusantium assumenda animi voluptatibus facere molestiae laboriosam amet optio, id quibusdam cum cumque ipsa? Quidem suscipit dignissimos eaque, explicabo ex ab ipsum, placeat odit voluptatem ipsa adipisci laboriosam mollitia, debitis voluptatibus inventore dolore, culpa nihil possimus exercitationem quibusdam reprehenderit accusantium corporis atque obcaecati molestias?\n",
      "Possimus et illo debitis neque, sit recusandae maxime? Vel possimus reiciendis architecto eligendi velit minima, ipsa quos distinctio pariatur quasi ea, sequi corrupti quo, voluptatibus eum earum et odio perferendis ipsa quia at pariatur porro ab, hic cupiditate non delectus amet eum modi assumenda ab inventore?\n",
      "Iure expedita tempore architecto odio modi iusto quod officia, suscipit blanditiis ipsum dolorem perspiciatis, reiciendis adipisci et laudantium facilis totam atque voluptates nulla deserunt dolorum. Facere dolore architecto necessitatibus provident eligendi molestiae libero at, commodi necessitatibus eius assumenda consequatur esse accusamus? Eaque officia natus modi repellat alias eligendi vel, quas repudiandae soluta quibusdam accusamus assumenda eveniet reiciendis, adipisci est perferendis enim reiciendis ab quos, culpa assumenda ea optio modi fuga, quod amet voluptatibus illo dicta porro velit. Mollitia quod voluptates beatae eveniet quis quo neque delectus, quidem dolorum consequuntur sit alias porro ipsam fuga eum?\n",
      "Corrupti delectus sapiente in est, vitae necessitatibus officia nam? Ab laudantium exercitationem similique, nam recusandae laboriosam numquam. Eius assumenda cupiditate suscipit expedita et, mollitia saepe debitis, in repellendus velit ducimus, corrupti magnam mollitia ullam quis sequi?\n"
     ]
    }
   ],
   "source": [
    "# generate multiple random paragraphs\n",
    "p_length=10\n",
    "print(lorem.paragraphs(p_length))"
   ]
  },
  {
   "cell_type": "code",
   "execution_count": 5,
   "id": "cd520fa4-fd19-4b04-a5b9-5c6a3011c306",
   "metadata": {},
   "outputs": [
    {
     "name": "stdout",
     "output_type": "stream",
     "text": [
      "ratione quidem a laboriosam quaerat consequuntur aliquid non corrupti rerum optio quam ducimus aliquam expedita suscipit natus iste tempora dignissimos\n"
     ]
    }
   ],
   "source": [
    "# generate random words (separated with single space)\n",
    "w=20\n",
    "print(lorem.words(w))"
   ]
  },
  {
   "cell_type": "code",
   "execution_count": null,
   "id": "8a0c74a1-c6d9-4c2d-830c-1fc214afb65e",
   "metadata": {},
   "outputs": [],
   "source": []
  }
 ],
 "metadata": {
  "kernelspec": {
   "display_name": "Python 3 (ipykernel)",
   "language": "python",
   "name": "python3"
  },
  "language_info": {
   "codemirror_mode": {
    "name": "ipython",
    "version": 3
   },
   "file_extension": ".py",
   "mimetype": "text/x-python",
   "name": "python",
   "nbconvert_exporter": "python",
   "pygments_lexer": "ipython3",
   "version": "3.11.1"
  }
 },
 "nbformat": 4,
 "nbformat_minor": 5
}
