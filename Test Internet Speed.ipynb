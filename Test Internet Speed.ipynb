{
 "cells": [
  {
   "cell_type": "markdown",
   "id": "f76bc9ac-5b80-41a7-9bee-5250fefcf584",
   "metadata": {},
   "source": [
    "### Internet Speed Test Program"
   ]
  },
  {
   "cell_type": "markdown",
   "id": "86ec33ed-c2bc-4419-9a1e-aa740d1b2a2c",
   "metadata": {},
   "source": [
    "#### Install required library"
   ]
  },
  {
   "cell_type": "code",
   "execution_count": 1,
   "id": "8d1e96b1-1672-429e-adfb-def2fc9df4f6",
   "metadata": {},
   "outputs": [
    {
     "name": "stdout",
     "output_type": "stream",
     "text": [
      "Requirement already satisfied: speedtest-cli in c:\\users\\deepa\\appdata\\local\\programs\\python\\python311\\lib\\site-packages (2.1.3)\n",
      "Note: you may need to restart the kernel to use updated packages.\n"
     ]
    }
   ],
   "source": [
    "pip install speedtest-cli"
   ]
  },
  {
   "cell_type": "markdown",
   "id": "2a8444c4-b3bb-43ef-b021-59274a9c21f9",
   "metadata": {},
   "source": [
    "#### import speedtest module to check speed of the Internet"
   ]
  },
  {
   "cell_type": "code",
   "execution_count": 1,
   "id": "f3b31548-ba53-4df4-8e37-fbcc33b7f838",
   "metadata": {},
   "outputs": [],
   "source": [
    "import speedtest"
   ]
  },
  {
   "cell_type": "markdown",
   "id": "3641fa64-7b54-4d3b-8728-d11c6aae2edb",
   "metadata": {},
   "source": [
    "#### create connection with router, use secure keyword for checking the type of connection"
   ]
  },
  {
   "cell_type": "code",
   "execution_count": 2,
   "id": "4c2b82a6-6dfb-4f55-a160-c5ec350b2c17",
   "metadata": {},
   "outputs": [],
   "source": [
    "network = speedtest.Speedtest(secure=True)"
   ]
  },
  {
   "cell_type": "markdown",
   "id": "e5803546-f2b5-4a37-a368-8a91c89a1a28",
   "metadata": {},
   "source": [
    "#### divided by 1024 two times for converting Bytes into Megabytes"
   ]
  },
  {
   "cell_type": "code",
   "execution_count": 3,
   "id": "226ea2c0-dc9a-4eb5-a9c7-63dd5f910a41",
   "metadata": {},
   "outputs": [],
   "source": [
    "download_speed=((network.download()/1024)/1024)\n",
    "upload_speed=((network.upload()/1024)/1024)"
   ]
  },
  {
   "cell_type": "markdown",
   "id": "8e7849ac-68f9-4a47-93a2-b08a0dca795f",
   "metadata": {},
   "source": [
    "#### print the Internet Speed in rounded format"
   ]
  },
  {
   "cell_type": "code",
   "execution_count": 4,
   "id": "050d1456-1830-4153-ad19-c56705d3ec95",
   "metadata": {},
   "outputs": [
    {
     "name": "stdout",
     "output_type": "stream",
     "text": [
      "Internet Download Speed is:  29.52 Mbps\n",
      "Internet Upload Speed is:  32.14 Mbps\n"
     ]
    }
   ],
   "source": [
    "print('Internet Download Speed is: ',round(download_speed, 2),'Mbps')\n",
    "print('Internet Upload Speed is: ',round(upload_speed, 2),'Mbps')"
   ]
  },
  {
   "cell_type": "code",
   "execution_count": null,
   "id": "ef955907-fc73-4210-964d-c5ac5714e481",
   "metadata": {},
   "outputs": [],
   "source": []
  }
 ],
 "metadata": {
  "kernelspec": {
   "display_name": "Python 3 (ipykernel)",
   "language": "python",
   "name": "python3"
  },
  "language_info": {
   "codemirror_mode": {
    "name": "ipython",
    "version": 3
   },
   "file_extension": ".py",
   "mimetype": "text/x-python",
   "name": "python",
   "nbconvert_exporter": "python",
   "pygments_lexer": "ipython3",
   "version": "3.11.1"
  }
 },
 "nbformat": 4,
 "nbformat_minor": 5
}
